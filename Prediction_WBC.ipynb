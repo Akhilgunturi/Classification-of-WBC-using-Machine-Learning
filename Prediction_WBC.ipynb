{
  "nbformat": 4,
  "nbformat_minor": 0,
  "metadata": {
    "colab": {
      "name": "Prediction_WBC.ipynb",
      "provenance": []
    },
    "kernelspec": {
      "name": "python3",
      "display_name": "Python 3"
    },
    "language_info": {
      "name": "python"
    }
  },
  "cells": [
    {
      "cell_type": "code",
      "metadata": {
        "id": "rIdaTnJkLyD6"
      },
      "source": [
        "import os\n",
        "import numpy as np"
      ],
      "execution_count": 10,
      "outputs": []
    },
    {
      "cell_type": "code",
      "metadata": {
        "colab": {
          "base_uri": "https://localhost:8080/"
        },
        "id": "v8G9GCqIL2vw",
        "outputId": "c768acb5-fe9f-49b5-e3c6-661394383cbf"
      },
      "source": [
        "from google.colab import drive\n",
        "drive.mount('/content/drive')"
      ],
      "execution_count": 1,
      "outputs": [
        {
          "output_type": "stream",
          "name": "stdout",
          "text": [
            "Mounted at /content/drive\n"
          ]
        }
      ]
    },
    {
      "cell_type": "code",
      "metadata": {
        "id": "mXf-ZfZDL3j9"
      },
      "source": [
        "import tensorflow as tf\n",
        "loaded_model2 = tf.keras.models.load_model('/content/drive/MyDrive/model')"
      ],
      "execution_count": 2,
      "outputs": []
    },
    {
      "cell_type": "code",
      "metadata": {
        "id": "-aa-oTMKMtaM"
      },
      "source": [
        "#CLASS_NAMES = [i for i in os.listdir('/content/drive/MyDrive/dataset2-master/TRAIN') ]\n",
        "CLASS_NAMES=[ 'EOSINOPHIL','LYMPHOCYTE','MONOCYTE','NEUTROPHIL']"
      ],
      "execution_count": 12,
      "outputs": []
    },
    {
      "cell_type": "code",
      "metadata": {
        "id": "5xA05iPGMKK9"
      },
      "source": [
        "def predic(image):\n",
        "    image=tf.keras.preprocessing.image.img_to_array(image)\n",
        "    image=np.expand_dims(image,axis=0)\n",
        "    predict=np.argmax(loaded_model2.predict(image),axis=-1)\n",
        "    return predict"
      ],
      "execution_count": 8,
      "outputs": []
    },
    {
      "cell_type": "code",
      "metadata": {
        "colab": {
          "base_uri": "https://localhost:8080/",
          "height": 35
        },
        "id": "96obUawOMjm3",
        "outputId": "1a5c9510-be2b-4859-8885-c0f8ddf64f61"
      },
      "source": [
        "image_path='/content/drive/MyDrive/dataset2-master/TRAIN/MONOCYTE/_0_1483.jpeg'\n",
        "image=tf.keras.preprocessing.image.load_img(image_path,target_size=(224,224))\n",
        "CLASS_NAMES[predic(image)[0]]"
      ],
      "execution_count": 14,
      "outputs": [
        {
          "output_type": "execute_result",
          "data": {
            "application/vnd.google.colaboratory.intrinsic+json": {
              "type": "string"
            },
            "text/plain": [
              "'MONOCYTE'"
            ]
          },
          "metadata": {},
          "execution_count": 14
        }
      ]
    },
    {
      "cell_type": "code",
      "metadata": {
        "id": "S1qzQSqtNVu2"
      },
      "source": [
        ""
      ],
      "execution_count": null,
      "outputs": []
    }
  ]
}